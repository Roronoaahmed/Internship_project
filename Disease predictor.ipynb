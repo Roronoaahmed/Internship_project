{
 "cells": [
  {
   "cell_type": "code",
   "execution_count": 1,
   "id": "fb309f9d",
   "metadata": {},
   "outputs": [],
   "source": [
    "# Import Dependencies\n",
    "import gradio as gr\n",
    "import numpy as np"
   ]
  },
  {
   "cell_type": "code",
   "execution_count": 2,
   "id": "488b736a",
   "metadata": {},
   "outputs": [],
   "source": [
    "# Function to make Inference\n",
    "l1 = ['itching', 'skin_rash', 'nodal_skin_eruptions', 'continuous_sneezing', 'shivering', 'chills', 'joint_pain',\n",
    "    'stomach_pain','acidity','ulcers_on_tongue','muscle_wasting','vomiting','burning_micturition',\n",
    "    'spotting_ urination','fatigue','weight_gain','anxiety','cold_hands_and_feets','mood_swings',\n",
    "    'weight_loss','restlessness','lethargy','patches_in_throat','irregular_sugar_level','cough',\n",
    "    'high_fever','sunken_eyes','breathlessness','sweating','dehydration','indigestion','headache',\n",
    "    'yellowish_skin','dark_urine','nausea','loss_of_appetite','pain_behind_the_eyes','back_pain',\n",
    "    'constipation','abdominal_pain','diarrhoea','mild_fever','yellow_urine','yellowing_of_eyes',\n",
    "    'acute_liver_failure','fluid_overload','swelling_of_stomach','swelled_lymph_nodes','malaise',\n",
    "    'blurred_and_distorted_vision','phlegm','throat_irritation','redness_of_eyes','sinus_pressure',\n",
    "    'runny_nose','congestion','chest_pain','weakness_in_limbs','fast_heart_rate',\n",
    "    'pain_during_bowel_movements','pain_in_anal_region','bloody_stool','irritation_in_anus',\n",
    "    'neck_pain','dizziness','cramps','bruising','obesity','swollen_legs','swollen_blood_vessels',\n",
    "    'puffy_face_and_eyes','enlarged_thyroid','brittle_nails','swollen_extremeties','excessive_hunger',\n",
    "    'extra_marital_contacts','drying_and_tingling_lips','slurred_speech','knee_pain','hip_joint_pain',\n",
    "    'muscle_weakness','stiff_neck','swelling_joints','movement_stiffness','spinning_movements',\n",
    "    'loss_of_balance','unsteadiness','weakness_of_one_body_side','loss_of_smell','bladder_discomfort',\n",
    "    'foul_smell_of urine','continuous_feel_of_urine','passage_of_gases','internal_itching','toxic_look_(typhos)',\n",
    "    'depression','irritability','muscle_pain','altered_sensorium','red_spots_over_body','belly_pain',\n",
    "    'abnormal_menstruation','dischromic _patches','watering_from_eyes','increased_appetite',\n",
    "    'polyuria','family_history','mucoid_sputum','rusty_sputum','lack_of_concentration',\n",
    "    'visual_disturbances','receiving_blood_transfusion','receiving_unsterile_injections','coma',\n",
    "    'stomach_bleeding','distention_of_abdomen','history_of_alcohol_consumption','fluid_overload',\n",
    "    'blood_in_sputum','prominent_veins_on_calf','palpitations','painful_walking','pus_filled_pimples',\n",
    "    'blackheads','scurring','skin_peeling','silver_like_dusting','small_dents_in_nails','inflammatory_nails',\n",
    "    'blister','red_sore_around_nose','yellow_crust_ooze']\n",
    "\n",
    "def predict_disease_from_symptoms(*symptoms):\n",
    "    # Load your model and perform disease prediction here\n",
    "    # Replace the following line with your prediction logic\n",
    "    predicted_disease = np.random.choice(['Fungal infection','Allergy','GERD','Chronic cholestasis',\n",
    "                                         'Drug Reaction', 'Peptic ulcer diseae','AIDS','Diabetes','Gastroenteritis',\n",
    "                                         'Bronchial Asthma','Hypertension','Migraine','Cervical spondylosis',\n",
    "                                         'Paralysis (brain hemorrhage)','Jaundice','Malaria','Chicken pox',\n",
    "                                         'Dengue','Typhoid','hepatitis A','Hepatitis B','Hepatitis C',\n",
    "                                         'Hepatitis D','Hepatitis E','Alcoholic hepatitis','Tuberculosis',\n",
    "                                         'Common Cold','Pneumonia','Dimorphic hemmorhoids(piles)','Heartattack',\n",
    "                                         'Varicoseveins','Hypothyroidism','Hyperthyroidism','Hypoglycemia',\n",
    "                                         'Osteoarthristis','Arthritis','(vertigo) Paroymsal  Positional Vertigo',\n",
    "                                         'Acne','Urinary tract infection','Psoriasis','Impetigo'])\n",
    "    return predicted_disease"
   ]
  },
  {
   "cell_type": "code",
   "execution_count": 3,
   "id": "97a7e529",
   "metadata": {
    "scrolled": false
   },
   "outputs": [
    {
     "name": "stderr",
     "output_type": "stream",
     "text": [
      "C:\\Users\\tabas\\AppData\\Local\\Temp\\ipykernel_8044\\772342805.py:3: GradioDeprecationWarning: Usage of gradio.inputs is deprecated, and will not be supported in the future, please import your component from gradio.components\n",
      "  inputs=[gr.inputs.CheckboxGroup(l1, label=\"Select Symptoms\")],\n",
      "C:\\Users\\tabas\\AppData\\Local\\Temp\\ipykernel_8044\\772342805.py:3: GradioDeprecationWarning: `optional` parameter is deprecated, and it has no effect\n",
      "  inputs=[gr.inputs.CheckboxGroup(l1, label=\"Select Symptoms\")],\n",
      "C:\\Users\\tabas\\AppData\\Local\\Temp\\ipykernel_8044\\772342805.py:4: GradioDeprecationWarning: Usage of gradio.outputs is deprecated, and will not be supported in the future, please import your components from gradio.components\n",
      "  outputs=gr.outputs.Textbox(),\n"
     ]
    },
    {
     "name": "stdout",
     "output_type": "stream",
     "text": [
      "Running on local URL:  http://127.0.0.1:7860\n",
      "\n",
      "Could not create share link. Please check your internet connection or our status page: https://status.gradio.app.\n"
     ]
    },
    {
     "data": {
      "text/html": [
       "<div><iframe src=\"http://127.0.0.1:7860/\" width=\"100%\" height=\"500\" allow=\"autoplay; camera; microphone; clipboard-read; clipboard-write;\" frameborder=\"0\" allowfullscreen></iframe></div>"
      ],
      "text/plain": [
       "<IPython.core.display.HTML object>"
      ]
     },
     "metadata": {},
     "output_type": "display_data"
    },
    {
     "data": {
      "text/plain": []
     },
     "execution_count": 3,
     "metadata": {},
     "output_type": "execute_result"
    }
   ],
   "source": [
    "iface = gr.Interface(\n",
    "    fn=predict_disease_from_symptoms,\n",
    "    inputs=[gr.inputs.CheckboxGroup(l1, label=\"Select Symptoms\")],\n",
    "    outputs=gr.outputs.Textbox(),\n",
    "    title=\"Disease Prediction from Symptoms\",\n",
    "    description=\"Select symptoms and click submit to predict the disease.[ NOTE: This app is meant for demo purposes only. Please consult a Doctor if you have any symptoms.]\"\n",
    "        \n",
    ")\n",
    "\n",
    "iface.launch(share=True)\n"
   ]
  },
  {
   "cell_type": "code",
   "execution_count": null,
   "id": "32932593",
   "metadata": {},
   "outputs": [],
   "source": []
  }
 ],
 "metadata": {
  "kernelspec": {
   "display_name": "Python 3 (ipykernel)",
   "language": "python",
   "name": "python3"
  },
  "language_info": {
   "codemirror_mode": {
    "name": "ipython",
    "version": 3
   },
   "file_extension": ".py",
   "mimetype": "text/x-python",
   "name": "python",
   "nbconvert_exporter": "python",
   "pygments_lexer": "ipython3",
   "version": "3.10.9"
  }
 },
 "nbformat": 4,
 "nbformat_minor": 5
}
